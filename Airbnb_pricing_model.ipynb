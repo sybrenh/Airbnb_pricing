{
  "nbformat": 4,
  "nbformat_minor": 0,
  "metadata": {
    "colab": {
      "provenance": [],
      "collapsed_sections": [
        "_7-7yvUOZucg",
        "rhaLmvmZtcD-"
      ]
    },
    "kernelspec": {
      "name": "python3",
      "display_name": "Python 3"
    },
    "language_info": {
      "name": "python"
    }
  },
  "cells": [
    {
      "cell_type": "markdown",
      "source": [
        "De opdracht luidt als volgt: Voorspel de prijs voor een nieuwe\n",
        "listing\n",
        " (nieuwe aanbieder van een huis) en presenteer kort wat je gedaan hebt en hebt bereikt.\n",
        "We zijn benieuwd naar zowel je technische skills als je consultant skills. Denk daarbij aan de volgende zaken:  \n",
        "\n",
        "\n",
        "•                 Welke\n",
        " features gebruik je (en waarom)?  \n",
        "\n",
        "•                 Wat\n",
        " moet je aan pre-processing doen?  \n",
        "\n",
        "•                 Wat\n",
        " is je aanpak mbt\n",
        " train/test split?  \n",
        "\n",
        "•                 Welke\n",
        " algoritmes gebruik je en waarom?  \n",
        "\n",
        "•                 Hoe\n",
        " evalueer je?  \n",
        "\n",
        "•                 Welke\n",
        " problemen/uitdagingen voorzie je en hoe ga je daarmee om?  \n",
        "\n",
        "•                 Hoe\n",
        " kan het model in de praktijk worden gebruikt, en hoe zou je de uitkomsten aan de\n",
        "gebruiker\n",
        " tonen?  \n",
        "\n",
        "•                 Wat\n",
        " zou je kunnen doen om het model evt. nog beter te maken?\n",
        "\n",
        " \n",
        "\n",
        "Wees specifiek in je aanpak. Als je bijvoorbeeld zegt: ik ga een deep neural netwerk trainen, dan moet je daarbij wel uitleggen hoe dat netwerk er precies uitziet en de data die je erin wilt stoppen. We snappen dat het (te) veel werk is om een heel product uit te werken, maar probeer in ieder geval het verwerken van de data en het trainen van een model in code te zetten.\n",
        "\n",
        "Je mag zelf kiezen hoe je dit presenteert, een powerpoint, jupyter notebook, etc.\n",
        "\n",
        "Als laatste een tip! Probeer ‘hardop te denken’ zodat we je gedachtegang kunnen volgen en kunnen begrijpen waarom je bepaalde keuzes maakt.\n",
        "\n"
      ],
      "metadata": {
        "id": "cIHp53gsZVVn"
      }
    },
    {
      "cell_type": "markdown",
      "source": [
        "Something to keep in mind is that modeling prices on all the scraped listings doesn’t make much sense. Many of these listings may be priced poorly or inactive and training a model on them wouldn’t necessarily suggest optimal prices. Therefore, defining what a “good” listing is and filtering out sub-optimal listings was the first step in the data cleaning process. One key feature to keep track of was occupancy, which wasn’t a feature included in the dataset."
      ],
      "metadata": {
        "id": "6yYzWsbGpZyP"
      }
    },
    {
      "cell_type": "markdown",
      "source": [
        "'reviews_per_month': dtype('float64')} --> could be used to estimate the occupancy\n",
        "\n",
        "check 'access' to find smart lock "
      ],
      "metadata": {
        "id": "mtnFRuWPp6so"
      }
    },
    {
      "cell_type": "markdown",
      "source": [
        "sources:\n",
        "https://towardsdatascience.com/airbnb-pricing-recommender-19225d0f5d1\n",
        "\n",
        "Ideas, can I use another airbnb dataset to tune a model on an finetune on this one to get extra data?\n",
        "\n",
        "\n",
        "make two models --> low price and high price\n",
        "\n",
        " Something to note though is that there are definitely other factors such as seasonality, demand, and day of the week to take into account when considering price. While the dataset I used didn’t have a great way to incorporate these factors, next steps on improving this project would be to use a time series model to address seasonality and figuring out a way to model demand."
      ],
      "metadata": {
        "id": "k4Gs-xnhbEKx"
      }
    },
    {
      "cell_type": "markdown",
      "source": [
        "# Data cleaning"
      ],
      "metadata": {
        "id": "Or8HKLiqsEzO"
      }
    },
    {
      "cell_type": "code",
      "execution_count": 231,
      "metadata": {
        "id": "rjHMhGXoYLve"
      },
      "outputs": [],
      "source": [
        "import numpy as np\n",
        "import pandas as pd\n",
        "import matplotlib.pyplot as plt\n",
        "import seaborn as sns\n",
        "\n",
        "from sklearn.ensemble import RandomForestRegressor\n",
        "from sklearn.model_selection import train_test_split\n",
        "from sklearn.metrics import mean_squared_error\n",
        "\n",
        "\n",
        "from sklearn.preprocessing import StandardScaler\n",
        "import statsmodels.api as sm\n",
        "%matplotlib inline\n"
      ]
    },
    {
      "cell_type": "code",
      "source": [
        "df = pd.read_csv('/content/listings_summary.csv')"
      ],
      "metadata": {
        "id": "VA8xT2YQYrqV"
      },
      "execution_count": 194,
      "outputs": []
    },
    {
      "cell_type": "code",
      "source": [
        "# df.head()\n",
        "# df.describe()\n",
        "# df.columns"
      ],
      "metadata": {
        "id": "HFgvyUIjY9gl"
      },
      "execution_count": 196,
      "outputs": []
    },
    {
      "cell_type": "markdown",
      "source": [
        "### Numerical features"
      ],
      "metadata": {
        "id": "vmoCBdtYbhIo"
      }
    },
    {
      "cell_type": "code",
      "source": [
        "# Should look into cleaning city, strange there are other values too\n",
        "df['city'].value_counts()"
      ],
      "metadata": {
        "id": "97KAfmL9ZDoK"
      },
      "execution_count": null,
      "outputs": []
    },
    {
      "cell_type": "code",
      "source": [
        "# convert superhost boolean to 0 - 1\n",
        "df['host_is_superhost'] = df['host_is_superhost'].str.replace('t','1')\n",
        "df['host_is_superhost'] = df['host_is_superhost'].str.replace('f','0')\n",
        "df['host_is_superhost'] = df['host_is_superhost'].fillna(0)\n",
        "df['host_is_superhost'] = df['host_is_superhost'].astype(int)"
      ],
      "metadata": {
        "id": "7MDx1nPh5Ku-"
      },
      "execution_count": 198,
      "outputs": []
    },
    {
      "cell_type": "code",
      "source": [
        "# not significant\n",
        "df['host_has_profile_pic'] = df['host_has_profile_pic'].str.replace('t','1')\n",
        "df['host_has_profile_pic'] = df['host_has_profile_pic'].str.replace('f','0')\n",
        "df['host_has_profile_pic'] = df['host_has_profile_pic'].fillna(0)\n",
        "df['host_has_profile_pic'] = df['host_has_profile_pic'].astype(int)"
      ],
      "metadata": {
        "id": "6rOjFgc4hb5Y"
      },
      "execution_count": 199,
      "outputs": []
    },
    {
      "cell_type": "code",
      "source": [
        "df['is_location_exact'] = df['is_location_exact'].str.replace('t','1')\n",
        "df['is_location_exact'] = df['is_location_exact'].str.replace('f','0')\n",
        "df['is_location_exact'] = df['is_location_exact'].fillna(0)\n",
        "df['is_location_exact'] = df['is_location_exact'].astype(int)"
      ],
      "metadata": {
        "id": "8_XVJ1YjhyRr"
      },
      "execution_count": 200,
      "outputs": []
    },
    {
      "cell_type": "code",
      "source": [
        "# Only 208, if it were more it would have been a possible feature\n",
        "df['host_about'].isna().sum()"
      ],
      "metadata": {
        "colab": {
          "base_uri": "https://localhost:8080/"
        },
        "id": "83tCy6BuiFql",
        "outputId": "d5c6a179-fcce-47c5-a7a6-d96db145204d"
      },
      "execution_count": 183,
      "outputs": [
        {
          "output_type": "execute_result",
          "data": {
            "text/plain": [
              "208"
            ]
          },
          "metadata": {},
          "execution_count": 183
        }
      ]
    },
    {
      "cell_type": "code",
      "source": [
        "# convert price to floats\n",
        "df['price'] = df['price'].str.replace('$', '')\n",
        "df['price'] = df['price'].str.replace(',', '')\n",
        "df['price'] = df['price'].astype('float')\n",
        "\n",
        "# Since there are only 74 apartments with a price above 500 we exclude them for now\n",
        "df = df[df['price'] < 500]"
      ],
      "metadata": {
        "colab": {
          "base_uri": "https://localhost:8080/"
        },
        "id": "gzKKFboZvIBo",
        "outputId": "fbe75b21-d7a2-4ea7-80b4-a44e07c8be93"
      },
      "execution_count": 201,
      "outputs": [
        {
          "output_type": "stream",
          "name": "stderr",
          "text": [
            "<ipython-input-201-eca4e156432e>:2: FutureWarning: The default value of regex will change from True to False in a future version. In addition, single character regular expressions will *not* be treated as literal strings when regex=True.\n",
            "  df['price'] = df['price'].str.replace('$', '')\n"
          ]
        }
      ]
    },
    {
      "cell_type": "code",
      "source": [
        "# filter out the apartments that host more than 12\n",
        "# df['accommodates'].value_counts()\n",
        "df = df[df['accommodates'] < 12]"
      ],
      "metadata": {
        "id": "sGvKVNmtwdA2"
      },
      "execution_count": 202,
      "outputs": []
    },
    {
      "cell_type": "code",
      "source": [
        "df['security_deposit'] = df['security_deposit'].str.replace('$', '')\n",
        "df['security_deposit'] = df['security_deposit'].str.replace(',', '').astype(float)\n",
        "\n",
        "# Really high security deposits do not make sense, therefore I remove them from the data\n",
        "df['security_deposit'].hist(bins=50)"
      ],
      "metadata": {
        "id": "At2aaH5sfGDL"
      },
      "execution_count": null,
      "outputs": []
    },
    {
      "cell_type": "code",
      "source": [
        "# Is this okay?\n",
        "df = df[df['security_deposit'] < 500]"
      ],
      "metadata": {
        "id": "MHC111B5j58q"
      },
      "execution_count": 204,
      "outputs": []
    },
    {
      "cell_type": "code",
      "source": [
        "# Find active listings only, if a property had not been booked for over a year, either the price is bad or there is something else wrong with it. Therefore we do not want these entries in our training data\n",
        "\n",
        "# df[['number_of_reviews', 'reviews_per_month', 'first_review', 'last_review']]\n",
        "# df['number_of_reviews'].value_counts()\n",
        "\n",
        "df['days_since_review'] = pd.to_datetime('2018-11-07')- pd.to_datetime(df['last_review'])\n",
        "df['days_since_review'] = df['days_since_review'].dt.days"
      ],
      "metadata": {
        "id": "MYgunsmAxL1_"
      },
      "execution_count": 205,
      "outputs": []
    },
    {
      "cell_type": "code",
      "source": [
        "fig, ax = plt.subplots(figsize=(10,5)) \n",
        "sns.histplot(df['days_since_review'], color='#FF585D')\n",
        "ax.set_title('The amount of days since the last review', fontsize=20)\n",
        "ax.set_xlabel('Days', fontsize=15)\n",
        "ax.set_ylabel('Count', fontsize=15)"
      ],
      "metadata": {
        "colab": {
          "base_uri": "https://localhost:8080/",
          "height": 377
        },
        "id": "ayUFDROpACw9",
        "outputId": "4db3ef88-8732-4f2e-cae7-884a1133763c"
      },
      "execution_count": 206,
      "outputs": [
        {
          "output_type": "execute_result",
          "data": {
            "text/plain": [
              "Text(0, 0.5, 'Count')"
            ]
          },
          "metadata": {},
          "execution_count": 206
        },
        {
          "output_type": "display_data",
          "data": {
            "text/plain": [
              "<Figure size 720x360 with 1 Axes>"
            ],
            "image/png": "[encoded data removed]"
          },
          "metadata": {
            "needs_background": "light"
          }
        }
      ]
    },
    {
      "cell_type": "code",
      "source": [
        "df.shape"
      ],
      "metadata": {
        "colab": {
          "base_uri": "https://localhost:8080/"
        },
        "id": "pNqngUkC2laf",
        "outputId": "657e74f5-4dca-4a3b-b9f1-55a702f67155"
      },
      "execution_count": 207,
      "outputs": [
        {
          "output_type": "execute_result",
          "data": {
            "text/plain": [
              "(11419, 97)"
            ]
          },
          "metadata": {},
          "execution_count": 207
        }
      ]
    },
    {
      "cell_type": "code",
      "source": [
        "df = df[df['days_since_review'] < 365]"
      ],
      "metadata": {
        "id": "SCD81vpw2pa8"
      },
      "execution_count": 208,
      "outputs": []
    },
    {
      "cell_type": "code",
      "source": [
        "df.shape"
      ],
      "metadata": {
        "colab": {
          "base_uri": "https://localhost:8080/"
        },
        "id": "suVwdWix3srE",
        "outputId": "daed0587-3c49-45bd-ca0e-0b121db7c81a"
      },
      "execution_count": 209,
      "outputs": [
        {
          "output_type": "execute_result",
          "data": {
            "text/plain": [
              "(8210, 97)"
            ]
          },
          "metadata": {},
          "execution_count": 209
        }
      ]
    },
    {
      "cell_type": "code",
      "source": [
        "df['square_feet'].value_counts()"
      ],
      "metadata": {
        "id": "zSKOauS9BQXW"
      },
      "execution_count": null,
      "outputs": []
    },
    {
      "cell_type": "code",
      "source": [
        "dict(df.isna().sum())\n"
      ],
      "metadata": {
        "id": "SrdKebmYA7Ma"
      },
      "execution_count": null,
      "outputs": []
    },
    {
      "cell_type": "code",
      "source": [
        "df['host_response_rate'].isna().sum()"
      ],
      "metadata": {
        "colab": {
          "base_uri": "https://localhost:8080/"
        },
        "id": "U63r61ZXX2SU",
        "outputId": "ac26ce10-97d8-4a99-aacf-d195b14eafde"
      },
      "execution_count": 116,
      "outputs": [
        {
          "output_type": "execute_result",
          "data": {
            "text/plain": [
              "5511"
            ]
          },
          "metadata": {},
          "execution_count": 116
        }
      ]
    },
    {
      "cell_type": "code",
      "source": [
        "# is averaging the right method here?\n",
        "df['host_response_rate'] = df['host_response_rate'].str.replace('%', '')\n",
        "df['host_response_rate'] = df['host_response_rate'].astype(float)\n"
      ],
      "metadata": {
        "id": "JfvARa0AXP8Z"
      },
      "execution_count": 211,
      "outputs": []
    },
    {
      "cell_type": "code",
      "source": [
        "mean_response = df['host_response_rate'].mean()\n",
        "mean_response"
      ],
      "metadata": {
        "colab": {
          "base_uri": "https://localhost:8080/"
        },
        "id": "Ch-bxaJiYged",
        "outputId": "22c0e2a9-fe66-4e71-d752-408050df13a0"
      },
      "execution_count": 212,
      "outputs": [
        {
          "output_type": "execute_result",
          "data": {
            "text/plain": [
              "94.19788127123726"
            ]
          },
          "metadata": {},
          "execution_count": 212
        }
      ]
    },
    {
      "cell_type": "code",
      "source": [
        "df['host_response_rate'] = df['host_response_rate'].fillna(mean_response) "
      ],
      "metadata": {
        "id": "OEGUnZ5QYNtX"
      },
      "execution_count": 213,
      "outputs": []
    },
    {
      "cell_type": "code",
      "source": [
        "#find the number of amenities in a listing, now it is a numerical feature, and a significant one according to OLS\n",
        "df['num_amenities'] = df['amenities'].apply(len)"
      ],
      "metadata": {
        "id": "zYQ74xsRlJmS"
      },
      "execution_count": 247,
      "outputs": []
    },
    {
      "cell_type": "markdown",
      "source": [
        "### Categorical features"
      ],
      "metadata": {
        "id": "_7-7yvUOZucg"
      }
    },
    {
      "cell_type": "code",
      "source": [
        "df.columns"
      ],
      "metadata": {
        "id": "EmsfhpxxEfYj"
      },
      "execution_count": null,
      "outputs": []
    },
    {
      "cell_type": "code",
      "source": [
        "# change the uncommon property types to their closest resemblance \n",
        "df['property_type'] = df['property_type'].replace({\n",
        "    'Villa' : 'House',\n",
        "    'Hut' : 'House',\n",
        "    'Guesthouse' : 'House',\n",
        "    'Townhouse' : 'House',\n",
        "    'Bungalow' : 'House',\n",
        "    'Tiny house' : 'House',\n",
        "    'Aparthotel' : 'Apartment',\n",
        "    'Serviced apartment' : 'Apartment',\n",
        "    'Bed and breakfast' : 'Other',\n",
        "    'Boutique hotel' : 'Other',\n",
        "    'Hotel' : 'Other',\n",
        "    'Loft' : 'Other',\n",
        "    'Guest suite' : 'Other',\n",
        "    'Camper/RV' : 'Other',\n",
        "    'Dorm' : 'Other',\n",
        "    'Cabin' : 'Other',\n",
        "    'Houseboat' : 'Other',             \n",
        "    'Boat' : 'Other',                  \n",
        "    'Resort' : 'Other',                \n",
        "    'Cottage' : 'Other',               \n",
        "    'Castle' : 'Other',                \n",
        "    'Chalet' : 'Other',                \n",
        "    'Train' : 'Other',                 \n",
        "    'Cave' : 'Other',                  \n",
        "    'Barn' : 'Other',                  \n",
        "    'Casa particular (Cuba)': 'Other', \n",
        "    'In-law' : 'Other'\n",
        "})"
      ],
      "metadata": {
        "id": "vb9SwSWCFnMW"
      },
      "execution_count": 214,
      "outputs": []
    },
    {
      "cell_type": "code",
      "source": [
        "df['property_type'].value_counts()"
      ],
      "metadata": {
        "colab": {
          "base_uri": "https://localhost:8080/"
        },
        "id": "E9az7iXmGPRE",
        "outputId": "27f79c87-af9f-42cf-b32e-6ea89d824110"
      },
      "execution_count": 215,
      "outputs": [
        {
          "output_type": "execute_result",
          "data": {
            "text/plain": [
              "Apartment      7310\n",
              "Other           331\n",
              "Condominium     250\n",
              "House           241\n",
              "Hostel           78\n",
              "Name: property_type, dtype: int64"
            ]
          },
          "metadata": {},
          "execution_count": 215
        }
      ]
    },
    {
      "cell_type": "code",
      "source": [
        "# No need to change things since only three categories\n",
        "df['room_type'].value_counts()"
      ],
      "metadata": {
        "colab": {
          "base_uri": "https://localhost:8080/"
        },
        "id": "okxCQpHMaqYR",
        "outputId": "95f523bb-6f8b-4ea1-e937-fd892f9416c4"
      },
      "execution_count": 216,
      "outputs": [
        {
          "output_type": "execute_result",
          "data": {
            "text/plain": [
              "Private room       4087\n",
              "Entire home/apt    4001\n",
              "Shared room         122\n",
              "Name: room_type, dtype: int64"
            ]
          },
          "metadata": {},
          "execution_count": 216
        }
      ]
    },
    {
      "cell_type": "code",
      "source": [
        "# df['neighbourhood'].value_counts().head(20)\n",
        "\n",
        "# 136 values, since neighbourhood only has 96 we take that one\n",
        "# df['neighbourhood_cleansed'].value_counts()"
      ],
      "metadata": {
        "id": "c_WUiau4bxnp"
      },
      "execution_count": 219,
      "outputs": []
    },
    {
      "cell_type": "code",
      "source": [
        "# Just perfect!\n",
        "df['neighbourhood_group_cleansed'].value_counts()"
      ],
      "metadata": {
        "id": "CmcAAVtKcuv9"
      },
      "execution_count": null,
      "outputs": []
    },
    {
      "cell_type": "markdown",
      "source": [
        "# Data preparation\n"
      ],
      "metadata": {
        "id": "d2XryX44cAoQ"
      }
    },
    {
      "cell_type": "code",
      "source": [
        "# Almost 90% of the listings are below 100 dollar. therefore it may be beneficial to create two models, one for lower priced apartments and one for expensive apartments, the tricky thing is to choose beforehand which model should be used for a new listing...\n",
        " \n",
        "df[df['price'] < 100].shape[0] / df['price'].shape[0] * 100\n"
      ],
      "metadata": {
        "colab": {
          "base_uri": "https://localhost:8080/"
        },
        "id": "HzOvdfVXBtRo",
        "outputId": "dddb31ea-2a13-40a7-8030-54e10ea83e16"
      },
      "execution_count": 222,
      "outputs": [
        {
          "output_type": "execute_result",
          "data": {
            "text/plain": [
              "88.00243605359319"
            ]
          },
          "metadata": {},
          "execution_count": 222
        }
      ]
    },
    {
      "cell_type": "code",
      "source": [
        "# model1 = df[(df['price'] < 150) & (df['accommodates'] <= 10)]\n",
        "# model1 = df[df['price'] < 150]\n"
      ],
      "metadata": {
        "id": "aUb_B4aqoYW7"
      },
      "execution_count": 223,
      "outputs": []
    },
    {
      "cell_type": "markdown",
      "source": [
        "https://docs.fast.ai/tutorial.tabular.html"
      ],
      "metadata": {
        "id": "9d7mqILccXmj"
      }
    },
    {
      "cell_type": "markdown",
      "source": [],
      "metadata": {
        "id": "N7p7410ccXgs"
      }
    },
    {
      "cell_type": "code",
      "source": [
        "# dict(df.dtypes)"
      ],
      "metadata": {
        "id": "LufMxgE0y-VO"
      },
      "execution_count": 226,
      "outputs": []
    },
    {
      "cell_type": "code",
      "source": [
        "df_one_hot = pd.get_dummies(df[['property_type', 'room_type', 'neighbourhood_group_cleansed']], prefix=['property_type', 'room_type', 'neighbourhood'])\n",
        "df_one_hot"
      ],
      "metadata": {
        "colab": {
          "base_uri": "https://localhost:8080/",
          "height": 505
        },
        "id": "0pP968TdH6oh",
        "outputId": "4c6655d1-1dbc-4b9f-aaef-af2e3507963e"
      },
      "execution_count": 227,
      "outputs": [
        {
          "output_type": "execute_result",
          "data": {
            "text/plain": [
              "       property_type_Apartment  property_type_Condominium  \\\n",
              "0                            0                          0   \n",
              "1                            1                          0   \n",
              "3                            1                          0   \n",
              "4                            1                          0   \n",
              "5                            1                          0   \n",
              "...                        ...                        ...   \n",
              "22330                        1                          0   \n",
              "22338                        1                          0   \n",
              "22401                        1                          0   \n",
              "22442                        1                          0   \n",
              "22508                        1                          0   \n",
              "\n",
              "       property_type_Hostel  property_type_House  property_type_Other  \\\n",
              "0                         0                    1                    0   \n",
              "1                         0                    0                    0   \n",
              "3                         0                    0                    0   \n",
              "4                         0                    0                    0   \n",
              "5                         0                    0                    0   \n",
              "...                     ...                  ...                  ...   \n",
              "22330                     0                    0                    0   \n",
              "22338                     0                    0                    0   \n",
              "22401                     0                    0                    0   \n",
              "22442                     0                    0                    0   \n",
              "22508                     0                    0                    0   \n",
              "\n",
              "       room_type_Entire home/apt  room_type_Private room  \\\n",
              "0                              1                       0   \n",
              "1                              0                       1   \n",
              "3                              0                       1   \n",
              "4                              0                       1   \n",
              "5                              1                       0   \n",
              "...                          ...                     ...   \n",
              "22330                          0                       1   \n",
              "22338                          1                       0   \n",
              "22401                          1                       0   \n",
              "22442                          0                       1   \n",
              "22508                          1                       0   \n",
              "\n",
              "       room_type_Shared room  neighbourhood_Charlottenburg-Wilm.  \\\n",
              "0                          0                                   0   \n",
              "1                          0                                   0   \n",
              "3                          0                                   0   \n",
              "4                          0                                   0   \n",
              "5                          0                                   0   \n",
              "...                      ...                                 ...   \n",
              "22330                      0                                   0   \n",
              "22338                      0                                   0   \n",
              "22401                      0                                   0   \n",
              "22442                      0                                   1   \n",
              "22508                      0                                   0   \n",
              "\n",
              "       neighbourhood_Friedrichshain-Kreuzberg  neighbourhood_Lichtenberg  \\\n",
              "0                                           0                          0   \n",
              "1                                           0                          0   \n",
              "3                                           0                          0   \n",
              "4                                           0                          0   \n",
              "5                                           0                          0   \n",
              "...                                       ...                        ...   \n",
              "22330                                       0                          1   \n",
              "22338                                       0                          0   \n",
              "22401                                       1                          0   \n",
              "22442                                       0                          0   \n",
              "22508                                       0                          0   \n",
              "\n",
              "       neighbourhood_Marzahn - Hellersdorf  neighbourhood_Mitte  \\\n",
              "0                                        0                    1   \n",
              "1                                        0                    0   \n",
              "3                                        0                    0   \n",
              "4                                        0                    0   \n",
              "5                                        0                    0   \n",
              "...                                    ...                  ...   \n",
              "22330                                    0                    0   \n",
              "22338                                    0                    1   \n",
              "22401                                    0                    0   \n",
              "22442                                    0                    0   \n",
              "22508                                    0                    0   \n",
              "\n",
              "       neighbourhood_Neukölln  neighbourhood_Pankow  \\\n",
              "0                           0                     0   \n",
              "1                           0                     1   \n",
              "3                           0                     0   \n",
              "4                           0                     1   \n",
              "5                           0                     1   \n",
              "...                       ...                   ...   \n",
              "22330                       0                     0   \n",
              "22338                       0                     0   \n",
              "22401                       0                     0   \n",
              "22442                       0                     0   \n",
              "22508                       0                     1   \n",
              "\n",
              "       neighbourhood_Reinickendorf  neighbourhood_Spandau  \\\n",
              "0                                0                      0   \n",
              "1                                0                      0   \n",
              "3                                0                      0   \n",
              "4                                0                      0   \n",
              "5                                0                      0   \n",
              "...                            ...                    ...   \n",
              "22330                            0                      0   \n",
              "22338                            0                      0   \n",
              "22401                            0                      0   \n",
              "22442                            0                      0   \n",
              "22508                            0                      0   \n",
              "\n",
              "       neighbourhood_Steglitz - Zehlendorf  \\\n",
              "0                                        0   \n",
              "1                                        0   \n",
              "3                                        0   \n",
              "4                                        0   \n",
              "5                                        0   \n",
              "...                                    ...   \n",
              "22330                                    0   \n",
              "22338                                    0   \n",
              "22401                                    0   \n",
              "22442                                    0   \n",
              "22508                                    0   \n",
              "\n",
              "       neighbourhood_Tempelhof - Schöneberg  neighbourhood_Treptow - Köpenick  \n",
              "0                                         0                                 0  \n",
              "1                                         0                                 0  \n",
              "3                                         1                                 0  \n",
              "4                                         0                                 0  \n",
              "5                                         0                                 0  \n",
              "...                                     ...                               ...  \n",
              "22330                                     0                                 0  \n",
              "22338                                     0                                 0  \n",
              "22401                                     0                                 0  \n",
              "22442                                     0                                 0  \n",
              "22508                                     0                                 0  \n",
              "\n",
              "[8210 rows x 20 columns]"
            ],
            "text/html": [
              "\n",
              "  <div id=\"df-c70d8cbb-7fc0-416b-85ef-0f71395687cc\">\n",
              "    <div class=\"colab-df-container\">\n",
              "      <div>\n",
              "<style scoped>\n",
              "    .dataframe tbody tr th:only-of-type {\n",
              "        vertical-align: middle;\n",
              "    }\n",
              "\n",
              "    .dataframe tbody tr th {\n",
              "        vertical-align: top;\n",
              "    }\n",
              "\n",
              "    .dataframe thead th {\n",
              "        text-align: right;\n",
              "    }\n",
              "</style>\n",
              "<table border=\"1\" class=\"dataframe\">\n",
              "  <thead>\n",
              "    <tr style=\"text-align: right;\">\n",
              "      <th></th>\n",
              "      <th>property_type_Apartment</th>\n",
              "      <th>property_type_Condominium</th>\n",
              "      <th>property_type_Hostel</th>\n",
              "      <th>property_type_House</th>\n",
              "      <th>property_type_Other</th>\n",
              "      <th>room_type_Entire home/apt</th>\n",
              "      <th>room_type_Private room</th>\n",
              "      <th>room_type_Shared room</th>\n",
              "      <th>neighbourhood_Charlottenburg-Wilm.</th>\n",
              "      <th>neighbourhood_Friedrichshain-Kreuzberg</th>\n",
              "      <th>neighbourhood_Lichtenberg</th>\n",
              "      <th>neighbourhood_Marzahn - Hellersdorf</th>\n",
              "      <th>neighbourhood_Mitte</th>\n",
              "      <th>neighbourhood_Neukölln</th>\n",
              "      <th>neighbourhood_Pankow</th>\n",
              "      <th>neighbourhood_Reinickendorf</th>\n",
              "      <th>neighbourhood_Spandau</th>\n",
              "      <th>neighbourhood_Steglitz - Zehlendorf</th>\n",
              "      <th>neighbourhood_Tempelhof - Schöneberg</th>\n",
              "      <th>neighbourhood_Treptow - Köpenick</th>\n",
              "    </tr>\n",
              "  </thead>\n",
              "  <tbody>\n",
              "    <tr>\n",
              "      <th>0</th>\n",
              "      <td>0</td>\n",
              "      <td>0</td>\n",
              "      <td>0</td>\n",
              "      <td>1</td>\n",
              "      <td>0</td>\n",
              "      <td>1</td>\n",
              "      <td>0</td>\n",
              "      <td>0</td>\n",
              "      <td>0</td>\n",
              "      <td>0</td>\n",
              "      <td>0</td>\n",
              "      <td>0</td>\n",
              "      <td>1</td>\n",
              "      <td>0</td>\n",
              "      <td>0</td>\n",
              "      <td>0</td>\n",
              "      <td>0</td>\n",
              "      <td>0</td>\n",
              "      <td>0</td>\n",
              "      <td>0</td>\n",
              "    </tr>\n",
              "    <tr>\n",
              "      <th>1</th>\n",
              "      <td>1</td>\n",
              "      <td>0</td>\n",
              "      <td>0</td>\n",
              "      <td>0</td>\n",
              "      <td>0</td>\n",
              "      <td>0</td>\n",
              "      <td>1</td>\n",
              "      <td>0</td>\n",
              "      <td>0</td>\n",
              "      <td>0</td>\n",
              "      <td>0</td>\n",
              "      <td>0</td>\n",
              "      <td>0</td>\n",
              "      <td>0</td>\n",
              "      <td>1</td>\n",
              "      <td>0</td>\n",
              "      <td>0</td>\n",
              "      <td>0</td>\n",
              "      <td>0</td>\n",
              "      <td>0</td>\n",
              "    </tr>\n",
              "    <tr>\n",
              "      <th>3</th>\n",
              "      <td>1</td>\n",
              "      <td>0</td>\n",
              "      <td>0</td>\n",
              "      <td>0</td>\n",
              "      <td>0</td>\n",
              "      <td>0</td>\n",
              "      <td>1</td>\n",
              "      <td>0</td>\n",
              "      <td>0</td>\n",
              "      <td>0</td>\n",
              "      <td>0</td>\n",
              "      <td>0</td>\n",
              "      <td>0</td>\n",
              "      <td>0</td>\n",
              "      <td>0</td>\n",
              "      <td>0</td>\n",
              "      <td>0</td>\n",
              "      <td>0</td>\n",
              "      <td>1</td>\n",
              "      <td>0</td>\n",
              "    </tr>\n",
              "    <tr>\n",
              "      <th>4</th>\n",
              "      <td>1</td>\n",
              "      <td>0</td>\n",
              "      <td>0</td>\n",
              "      <td>0</td>\n",
              "      <td>0</td>\n",
              "      <td>0</td>\n",
              "      <td>1</td>\n",
              "      <td>0</td>\n",
              "      <td>0</td>\n",
              "      <td>0</td>\n",
              "      <td>0</td>\n",
              "      <td>0</td>\n",
              "      <td>0</td>\n",
              "      <td>0</td>\n",
              "      <td>1</td>\n",
              "      <td>0</td>\n",
              "      <td>0</td>\n",
              "      <td>0</td>\n",
              "      <td>0</td>\n",
              "      <td>0</td>\n",
              "    </tr>\n",
              "    <tr>\n",
              "      <th>5</th>\n",
              "      <td>1</td>\n",
              "      <td>0</td>\n",
              "      <td>0</td>\n",
              "      <td>0</td>\n",
              "      <td>0</td>\n",
              "      <td>1</td>\n",
              "      <td>0</td>\n",
              "      <td>0</td>\n",
              "      <td>0</td>\n",
              "      <td>0</td>\n",
              "      <td>0</td>\n",
              "      <td>0</td>\n",
              "      <td>0</td>\n",
              "      <td>0</td>\n",
              "      <td>1</td>\n",
              "      <td>0</td>\n",
              "      <td>0</td>\n",
              "      <td>0</td>\n",
              "      <td>0</td>\n",
              "      <td>0</td>\n",
              "    </tr>\n",
              "    <tr>\n",
              "      <th>...</th>\n",
              "      <td>...</td>\n",
              "      <td>...</td>\n",
              "      <td>...</td>\n",
              "      <td>...</td>\n",
              "      <td>...</td>\n",
              "      <td>...</td>\n",
              "      <td>...</td>\n",
              "      <td>...</td>\n",
              "      <td>...</td>\n",
              "      <td>...</td>\n",
              "      <td>...</td>\n",
              "      <td>...</td>\n",
              "      <td>...</td>\n",
              "      <td>...</td>\n",
              "      <td>...</td>\n",
              "      <td>...</td>\n",
              "      <td>...</td>\n",
              "      <td>...</td>\n",
              "      <td>...</td>\n",
              "      <td>...</td>\n",
              "    </tr>\n",
              "    <tr>\n",
              "      <th>22330</th>\n",
              "      <td>1</td>\n",
              "      <td>0</td>\n",
              "      <td>0</td>\n",
              "      <td>0</td>\n",
              "      <td>0</td>\n",
              "      <td>0</td>\n",
              "      <td>1</td>\n",
              "      <td>0</td>\n",
              "      <td>0</td>\n",
              "      <td>0</td>\n",
              "      <td>1</td>\n",
              "      <td>0</td>\n",
              "      <td>0</td>\n",
              "      <td>0</td>\n",
              "      <td>0</td>\n",
              "      <td>0</td>\n",
              "      <td>0</td>\n",
              "      <td>0</td>\n",
              "      <td>0</td>\n",
              "      <td>0</td>\n",
              "    </tr>\n",
              "    <tr>\n",
              "      <th>22338</th>\n",
              "      <td>1</td>\n",
              "      <td>0</td>\n",
              "      <td>0</td>\n",
              "      <td>0</td>\n",
              "      <td>0</td>\n",
              "      <td>1</td>\n",
              "      <td>0</td>\n",
              "      <td>0</td>\n",
              "      <td>0</td>\n",
              "      <td>0</td>\n",
              "      <td>0</td>\n",
              "      <td>0</td>\n",
              "      <td>1</td>\n",
              "      <td>0</td>\n",
              "      <td>0</td>\n",
              "      <td>0</td>\n",
              "      <td>0</td>\n",
              "      <td>0</td>\n",
              "      <td>0</td>\n",
              "      <td>0</td>\n",
              "    </tr>\n",
              "    <tr>\n",
              "      <th>22401</th>\n",
              "      <td>1</td>\n",
              "      <td>0</td>\n",
              "      <td>0</td>\n",
              "      <td>0</td>\n",
              "      <td>0</td>\n",
              "      <td>1</td>\n",
              "      <td>0</td>\n",
              "      <td>0</td>\n",
              "      <td>0</td>\n",
              "      <td>1</td>\n",
              "      <td>0</td>\n",
              "      <td>0</td>\n",
              "      <td>0</td>\n",
              "      <td>0</td>\n",
              "      <td>0</td>\n",
              "      <td>0</td>\n",
              "      <td>0</td>\n",
              "      <td>0</td>\n",
              "      <td>0</td>\n",
              "      <td>0</td>\n",
              "    </tr>\n",
              "    <tr>\n",
              "      <th>22442</th>\n",
              "      <td>1</td>\n",
              "      <td>0</td>\n",
              "      <td>0</td>\n",
              "      <td>0</td>\n",
              "      <td>0</td>\n",
              "      <td>0</td>\n",
              "      <td>1</td>\n",
              "      <td>0</td>\n",
              "      <td>1</td>\n",
              "      <td>0</td>\n",
              "      <td>0</td>\n",
              "      <td>0</td>\n",
              "      <td>0</td>\n",
              "      <td>0</td>\n",
              "      <td>0</td>\n",
              "      <td>0</td>\n",
              "      <td>0</td>\n",
              "      <td>0</td>\n",
              "      <td>0</td>\n",
              "      <td>0</td>\n",
              "    </tr>\n",
              "    <tr>\n",
              "      <th>22508</th>\n",
              "      <td>1</td>\n",
              "      <td>0</td>\n",
              "      <td>0</td>\n",
              "      <td>0</td>\n",
              "      <td>0</td>\n",
              "      <td>1</td>\n",
              "      <td>0</td>\n",
              "      <td>0</td>\n",
              "      <td>0</td>\n",
              "      <td>0</td>\n",
              "      <td>0</td>\n",
              "      <td>0</td>\n",
              "      <td>0</td>\n",
              "      <td>0</td>\n",
              "      <td>1</td>\n",
              "      <td>0</td>\n",
              "      <td>0</td>\n",
              "      <td>0</td>\n",
              "      <td>0</td>\n",
              "      <td>0</td>\n",
              "    </tr>\n",
              "  </tbody>\n",
              "</table>\n",
              "<p>8210 rows × 20 columns</p>\n",
              "</div>\n",
              "      <button class=\"colab-df-convert\" onclick=\"convertToInteractive('df-c70d8cbb-7fc0-416b-85ef-0f71395687cc')\"\n",
              "              title=\"Convert this dataframe to an interactive table.\"\n",
              "              style=\"display:none;\">\n",
              "        \n",
              "  <svg xmlns=\"http://www.w3.org/2000/svg\" height=\"24px\"viewBox=\"0 0 24 24\"\n",
              "       width=\"24px\">\n",
              "    <path d=\"M0 0h24v24H0V0z\" fill=\"none\"/>\n",
              "    <path d=\"M18.56 5.44l.94 2.06.94-2.06 2.06-.94-2.06-.94-.94-2.06-.94 2.06-2.06.94zm-11 1L8.5 8.5l.94-2.06 2.06-.94-2.06-.94L8.5 2.5l-.94 2.06-2.06.94zm10 10l.94 2.06.94-2.06 2.06-.94-2.06-.94-.94-2.06-.94 2.06-2.06.94z\"/><path d=\"M17.41 7.96l-1.37-1.37c-.4-.4-.92-.59-1.43-.59-.52 0-1.04.2-1.43.59L10.3 9.45l-7.72 7.72c-.78.78-.78 2.05 0 2.83L4 21.41c.39.39.9.59 1.41.59.51 0 1.02-.2 1.41-.59l7.78-7.78 2.81-2.81c.8-.78.8-2.07 0-2.86zM5.41 20L4 18.59l7.72-7.72 1.47 1.35L5.41 20z\"/>\n",
              "  </svg>\n",
              "      </button>\n",
              "      \n",
              "  <style>\n",
              "    .colab-df-container {\n",
              "      display:flex;\n",
              "      flex-wrap:wrap;\n",
              "      gap: 12px;\n",
              "    }\n",
              "\n",
              "    .colab-df-convert {\n",
              "      background-color: #E8F0FE;\n",
              "      border: none;\n",
              "      border-radius: 50%;\n",
              "      cursor: pointer;\n",
              "      display: none;\n",
              "      fill: #1967D2;\n",
              "      height: 32px;\n",
              "      padding: 0 0 0 0;\n",
              "      width: 32px;\n",
              "    }\n",
              "\n",
              "    .colab-df-convert:hover {\n",
              "      background-color: #E2EBFA;\n",
              "      box-shadow: 0px 1px 2px rgba(60, 64, 67, 0.3), 0px 1px 3px 1px rgba(60, 64, 67, 0.15);\n",
              "      fill: #174EA6;\n",
              "    }\n",
              "\n",
              "    [theme=dark] .colab-df-convert {\n",
              "      background-color: #3B4455;\n",
              "      fill: #D2E3FC;\n",
              "    }\n",
              "\n",
              "    [theme=dark] .colab-df-convert:hover {\n",
              "      background-color: #434B5C;\n",
              "      box-shadow: 0px 1px 3px 1px rgba(0, 0, 0, 0.15);\n",
              "      filter: drop-shadow(0px 1px 2px rgba(0, 0, 0, 0.3));\n",
              "      fill: #FFFFFF;\n",
              "    }\n",
              "  </style>\n",
              "\n",
              "      <script>\n",
              "        const buttonEl =\n",
              "          document.querySelector('#df-c70d8cbb-7fc0-416b-85ef-0f71395687cc button.colab-df-convert');\n",
              "        buttonEl.style.display =\n",
              "          google.colab.kernel.accessAllowed ? 'block' : 'none';\n",
              "\n",
              "        async function convertToInteractive(key) {\n",
              "          const element = document.querySelector('#df-c70d8cbb-7fc0-416b-85ef-0f71395687cc');\n",
              "          const dataTable =\n",
              "            await google.colab.kernel.invokeFunction('convertToInteractive',\n",
              "                                                     [key], {});\n",
              "          if (!dataTable) return;\n",
              "\n",
              "          const docLinkHtml = 'Like what you see? Visit the ' +\n",
              "            '<a target=\"_blank\" href=https://colab.research.google.com/notebooks/data_table.ipynb>data table notebook</a>'\n",
              "            + ' to learn more about interactive tables.';\n",
              "          element.innerHTML = '';\n",
              "          dataTable['output_type'] = 'display_data';\n",
              "          await google.colab.output.renderOutput(dataTable, element);\n",
              "          const docLink = document.createElement('div');\n",
              "          docLink.innerHTML = docLinkHtml;\n",
              "          element.appendChild(docLink);\n",
              "        }\n",
              "      </script>\n",
              "    </div>\n",
              "  </div>\n",
              "  "
            ]
          },
          "metadata": {},
          "execution_count": 227
        }
      ]
    },
    {
      "cell_type": "code",
      "source": [
        "# 'security_deposit' is not significant \n",
        "\n",
        "numeric_variables = ['host_is_superhost', 'num_amenities', 'host_has_profile_pic', 'is_location_exact', 'host_response_rate', 'host_acceptance_rate','guests_included','maximum_nights','host_listings_count','minimum_nights','availability_30','availability_60',\n",
        " 'square_feet','beds','availability_90','availability_365','number_of_reviews','review_scores_rating',\n",
        " 'review_scores_accuracy','accommodates','bathrooms','bedrooms','review_scores_cleanliness','review_scores_checkin',\n",
        "'review_scores_communication','review_scores_location','review_scores_value','jurisdiction_names','calculated_host_listings_count','reviews_per_month']\n",
        "\n",
        "df_numeric = df[numeric_variables].fillna(0)\n",
        "\n"
      ],
      "metadata": {
        "id": "XE4-CJVR1bBZ"
      },
      "execution_count": 248,
      "outputs": []
    },
    {
      "cell_type": "code",
      "source": [
        "X = pd.concat([df_numeric, df_one_hot], axis=1)\n",
        "y = df['price'] # target variable"
      ],
      "metadata": {
        "id": "Ujf062O51_JL"
      },
      "execution_count": 249,
      "outputs": []
    },
    {
      "cell_type": "code",
      "source": [
        "X_train, X_test, y_train, y_test = train_test_split(X, y, test_size=0.3, random_state=42)"
      ],
      "metadata": {
        "id": "bk9eIhfZZAwY"
      },
      "execution_count": 250,
      "outputs": []
    },
    {
      "cell_type": "code",
      "source": [
        "X.head()"
      ],
      "metadata": {
        "id": "6074XswhMse9"
      },
      "execution_count": null,
      "outputs": []
    },
    {
      "cell_type": "markdown",
      "source": [
        "# OLS"
      ],
      "metadata": {
        "id": "YyKChUQwMqyv"
      }
    },
    {
      "cell_type": "code",
      "source": [
        "std = StandardScaler() \n",
        "std.fit(X_train.values) \n",
        "X_train_scaled = std.transform(X_train.values)\n",
        "train_df = pd.DataFrame(X_train_scaled, columns=X_train.columns)\n",
        "model = sm.OLS(np.array(y_train), sm.add_constant(train_df))\n",
        "\n",
        "fit = model.fit()\n",
        "fit.summary()"
      ],
      "metadata": {
        "id": "0HgdElYNM2Uv"
      },
      "execution_count": null,
      "outputs": []
    },
    {
      "cell_type": "code",
      "source": [
        "# X_test_scaled = std.transform(X_test.values)\n",
        "ypred = model.predict(X_test_scaled[0])\n"
      ],
      "metadata": {
        "colab": {
          "base_uri": "https://localhost:8080/",
          "height": 241
        },
        "id": "miuSjYFiqc-F",
        "outputId": "3871eafd-b6eb-4e0d-c0ba-e56ec8748371"
      },
      "execution_count": 259,
      "outputs": [
        {
          "output_type": "error",
          "ename": "ValueError",
          "evalue": "ignored",
          "traceback": [
            "\u001b[0;31m---------------------------------------------------------------------------\u001b[0m",
            "\u001b[0;31mValueError\u001b[0m                                Traceback (most recent call last)",
            "\u001b[0;32m<ipython-input-259-96623a767d91>\u001b[0m in \u001b[0;36m<module>\u001b[0;34m\u001b[0m\n\u001b[1;32m      1\u001b[0m \u001b[0;31m# X_test_scaled = std.transform(X_test.values)\u001b[0m\u001b[0;34m\u001b[0m\u001b[0;34m\u001b[0m\u001b[0;34m\u001b[0m\u001b[0m\n\u001b[0;32m----> 2\u001b[0;31m \u001b[0mypred\u001b[0m \u001b[0;34m=\u001b[0m \u001b[0mmodel\u001b[0m\u001b[0;34m.\u001b[0m\u001b[0mpredict\u001b[0m\u001b[0;34m(\u001b[0m\u001b[0mX_test_scaled\u001b[0m\u001b[0;34m[\u001b[0m\u001b[0;36m0\u001b[0m\u001b[0;34m]\u001b[0m\u001b[0;34m)\u001b[0m\u001b[0;34m\u001b[0m\u001b[0;34m\u001b[0m\u001b[0m\n\u001b[0m",
            "\u001b[0;32m/usr/local/lib/python3.8/dist-packages/statsmodels/regression/linear_model.py\u001b[0m in \u001b[0;36mpredict\u001b[0;34m(self, params, exog)\u001b[0m\n\u001b[1;32m    378\u001b[0m             \u001b[0mexog\u001b[0m \u001b[0;34m=\u001b[0m \u001b[0mself\u001b[0m\u001b[0;34m.\u001b[0m\u001b[0mexog\u001b[0m\u001b[0;34m\u001b[0m\u001b[0;34m\u001b[0m\u001b[0m\n\u001b[1;32m    379\u001b[0m \u001b[0;34m\u001b[0m\u001b[0m\n\u001b[0;32m--> 380\u001b[0;31m         \u001b[0;32mreturn\u001b[0m \u001b[0mnp\u001b[0m\u001b[0;34m.\u001b[0m\u001b[0mdot\u001b[0m\u001b[0;34m(\u001b[0m\u001b[0mexog\u001b[0m\u001b[0;34m,\u001b[0m \u001b[0mparams\u001b[0m\u001b[0;34m)\u001b[0m\u001b[0;34m\u001b[0m\u001b[0;34m\u001b[0m\u001b[0m\n\u001b[0m\u001b[1;32m    381\u001b[0m \u001b[0;34m\u001b[0m\u001b[0m\n\u001b[1;32m    382\u001b[0m     \u001b[0;32mdef\u001b[0m \u001b[0mget_distribution\u001b[0m\u001b[0;34m(\u001b[0m\u001b[0mself\u001b[0m\u001b[0;34m,\u001b[0m \u001b[0mparams\u001b[0m\u001b[0;34m,\u001b[0m \u001b[0mscale\u001b[0m\u001b[0;34m,\u001b[0m \u001b[0mexog\u001b[0m\u001b[0;34m=\u001b[0m\u001b[0;32mNone\u001b[0m\u001b[0;34m,\u001b[0m \u001b[0mdist_class\u001b[0m\u001b[0;34m=\u001b[0m\u001b[0;32mNone\u001b[0m\u001b[0;34m)\u001b[0m\u001b[0;34m:\u001b[0m\u001b[0;34m\u001b[0m\u001b[0;34m\u001b[0m\u001b[0m\n",
            "\u001b[0;32m/usr/local/lib/python3.8/dist-packages/numpy/core/overrides.py\u001b[0m in \u001b[0;36mdot\u001b[0;34m(*args, **kwargs)\u001b[0m\n",
            "\u001b[0;31mValueError\u001b[0m: shapes (5747,51) and (50,) not aligned: 51 (dim 1) != 50 (dim 0)"
          ]
        }
      ]
    },
    {
      "cell_type": "code",
      "source": [
        "X_test_scaled[0]"
      ],
      "metadata": {
        "colab": {
          "base_uri": "https://localhost:8080/"
        },
        "id": "1wzBMib-rGMe",
        "outputId": "c7774ac6-6b66-4ece-d55b-4f3ecd674e21"
      },
      "execution_count": 257,
      "outputs": [
        {
          "output_type": "execute_result",
          "data": {
            "text/plain": [
              "array([-0.54228951, -1.08537107,  0.0437917 ,  0.52290755,  0.50607602,\n",
              "        0.        , -0.49266061, -0.59933033,  2.68746893,  1.98185439,\n",
              "       -0.74520854, -0.84104003, -0.09006642,  0.22138219, -0.72911522,\n",
              "        1.43874739, -0.59593558,  0.52426755,  0.33577633,  0.77691269,\n",
              "       -0.29325116,  1.29744657, -1.03963104,  0.29813545,  0.28040382,\n",
              "       -0.3986942 , -1.11045936,  0.        ,  3.19452062, -0.89146588,\n",
              "        0.34648892, -0.17406205, -0.09368324, -0.17406205, -0.20325312,\n",
              "        1.03416607, -1.00680933, -0.11653432, -0.27018927, -0.56455663,\n",
              "       -0.17774187, -0.07827804,  1.96208793, -0.41777392, -0.4458589 ,\n",
              "       -0.11805887, -0.07939537, -0.12613284, -0.27716815, -0.1631461 ])"
            ]
          },
          "metadata": {},
          "execution_count": 257
        }
      ]
    },
    {
      "cell_type": "code",
      "source": [
        "# Plot actual vs predicted\n",
        "plt.figure(figsize=(10, 8))\n",
        "plt.plot([0,150], [0,150], c='#FF5A5F')\n",
        "plt.scatter(val_pred, y_val, color='#00A699', alpha=0.4)\n",
        "sns.despine()\n",
        "plt.ylabel('Actual Price', size=15)\n",
        "plt.xlabel('Predicted Price', size=15)\n",
        "plt.title('Actual vs Predicted Prices (Linear Regression)', size=18);\n",
        "# plt.savefig('actual_plot', bbox_inches ='tight', dpi = 400)"
      ],
      "metadata": {
        "id": "yFdtr0rzpgxi"
      },
      "execution_count": null,
      "outputs": []
    },
    {
      "cell_type": "markdown",
      "source": [
        "# Random forest regressor"
      ],
      "metadata": {
        "id": "uVLilAlYMErn"
      }
    },
    {
      "cell_type": "code",
      "source": [
        "# Split the data into training and testing sets\n",
        "# X = df.drop(['price', 'weekly_price', 'monthly_price'], axis=1) # input features\n",
        "# X = df[numeric_variables].fillna(0)\n",
        "\n",
        "# Create and fit the random forest regression model\n",
        "rf_model = RandomForestRegressor(n_estimators=100, random_state=42) # set hyperparameters\n",
        "rf_model.fit(X_train, y_train)\n",
        "\n",
        "# Evaluate the model on the testing set\n",
        "y_pred = rf_model.predict(X_test)\n",
        "mse = mean_squared_error(y_test, y_pred)\n",
        "rmse = np.sqrt(mse)\n",
        "print('Random Forest Regression RMSE:', rmse)\n"
      ],
      "metadata": {
        "colab": {
          "base_uri": "https://localhost:8080/"
        },
        "id": "UeiozZc_cDmV",
        "outputId": "e3a64fd1-f356-4799-c93d-442df10e7439"
      },
      "execution_count": 103,
      "outputs": [
        {
          "output_type": "stream",
          "name": "stdout",
          "text": [
            "Random Forest Regression RMSE: 31.154286510543596\n"
          ]
        }
      ]
    },
    {
      "cell_type": "markdown",
      "source": [
        "# EDA"
      ],
      "metadata": {
        "id": "rhaLmvmZtcD-"
      }
    },
    {
      "cell_type": "code",
      "source": [
        "df[df['price'] > 500]"
      ],
      "metadata": {
        "colab": {
          "base_uri": "https://localhost:8080/",
          "height": 0
        },
        "id": "T1iefhfft90t",
        "outputId": "deda871e-b119-41cb-bb92-039fb1770492"
      },
      "execution_count": 10,
      "outputs": [
        {
          "output_type": "execute_result",
          "data": {
            "text/plain": [
              "             id                            listing_url       scrape_id  \\\n",
              "78       102882    https://www.airbnb.com/rooms/102882  20181107122246   \n",
              "766      810056    https://www.airbnb.com/rooms/810056  20181107122246   \n",
              "848      885925    https://www.airbnb.com/rooms/885925  20181107122246   \n",
              "1270    1525270   https://www.airbnb.com/rooms/1525270  20181107122246   \n",
              "1990    2860420   https://www.airbnb.com/rooms/2860420  20181107122246   \n",
              "...         ...                                    ...             ...   \n",
              "21826  29022524  https://www.airbnb.com/rooms/29022524  20181107122246   \n",
              "22332  29642132  https://www.airbnb.com/rooms/29642132  20181107122246   \n",
              "22372  29684637  https://www.airbnb.com/rooms/29684637  20181107122246   \n",
              "22395  29706171  https://www.airbnb.com/rooms/29706171  20181107122246   \n",
              "22526  29840432  https://www.airbnb.com/rooms/29840432  20181107122246   \n",
              "\n",
              "      last_scraped                                               name  \\\n",
              "78      2018-11-07                            STORAGE APARTMENT URBAN   \n",
              "766     2018-11-07                             20m2 of relaxation ***   \n",
              "848     2018-11-07                LOFT- 8 minutes from train station!   \n",
              "1270    2018-11-07  Voll ausgestattetes Dachloft mit Blick über Be...   \n",
              "1990    2018-11-07  250 qm penthouse with roof terrace for photoshoot   \n",
              "...            ...                                                ...   \n",
              "21826   2018-11-07                                  Gorki Penthouse 1   \n",
              "22332   2018-11-07  Einzigartiges Penthouse über den Dächern Berlins!   \n",
              "22372   2018-11-07                  Cool Luxury meets Amazing Design!   \n",
              "22395   2018-11-07                        Most amazing flat in Berlin   \n",
              "22526   2018-11-07         !!! EDLES PENTHOUSE !!! NÄHE KUFÜRSTENDAMM   \n",
              "\n",
              "                                                 summary  \\\n",
              "78     Storage Berlin - Contemporary and innovative l...   \n",
              "766    Dear travellers - I'm renting out a 20 sq mete...   \n",
              "848    This amazing loft, which has already been feat...   \n",
              "1270   Penthouse im 5. Stock (mit Aufzug) mit großer ...   \n",
              "1990   For Photoshoots and events. Exceptional 250sqm...   \n",
              "...                                                  ...   \n",
              "21826                                                NaN   \n",
              "22332  Einzigartiges Penthouse in der Mitte Berlin Mi...   \n",
              "22372  This super Luxury loft is located directly on ...   \n",
              "22395  Your home is your castle. You can pull up the ...   \n",
              "22526  Eine edles und elegantes Penthouse mit circa 1...   \n",
              "\n",
              "                                                   space  \\\n",
              "78     Rent one of the rooms as single traveller or a...   \n",
              "766    Atelier/Logement de 52 M2, au 3ème étage d'un ...   \n",
              "848    This incredible loft of over (Phone number hid...   \n",
              "1270                                                 NaN   \n",
              "1990                                                 NaN   \n",
              "...                                                  ...   \n",
              "21826  Spread across 200 square meters, this luxury p...   \n",
              "22332  Diese ideal geschnittene Dachgeschosswohnung l...   \n",
              "22372  Refurbished in 2016 and luxuriously furnished ...   \n",
              "22395  Kitchen, Toilet, stupid stuff on the wall. Use...   \n",
              "22526                                                NaN   \n",
              "\n",
              "                                             description experiences_offered  \\\n",
              "78     Storage Berlin - Contemporary and innovative l...                none   \n",
              "766    Dear travellers - I'm renting out a 20 sq mete...                none   \n",
              "848    This incredible loft of over (Phone number hid...                none   \n",
              "1270   Penthouse im 5. Stock (mit Aufzug) mit großer ...                none   \n",
              "1990   For Photoshoots and events. Exceptional 250sqm...                none   \n",
              "...                                                  ...                 ...   \n",
              "21826  Spread across 200 square meters, this luxury p...                none   \n",
              "22332  Einzigartiges Penthouse in der Mitte Berlin Mi...                none   \n",
              "22372  This super Luxury loft is located directly on ...                none   \n",
              "22395  Your home is your castle. You can pull up the ...                none   \n",
              "22526  Eine edles und elegantes Penthouse mit circa 1...                none   \n",
              "\n",
              "                                   neighborhood_overview  ...  \\\n",
              "78                                                   NaN  ...   \n",
              "766                   Ici c'est tous les jours dimanche.  ...   \n",
              "848                                                  NaN  ...   \n",
              "1270   Die Wohnung befindet sich in unmittelbarer Näh...  ...   \n",
              "1990                                                 NaN  ...   \n",
              "...                                                  ...  ...   \n",
              "21826                                                NaN  ...   \n",
              "22332                                                NaN  ...   \n",
              "22372                                                NaN  ...   \n",
              "22395  Its wedding, a unique mix of people that never...  ...   \n",
              "22526                                                NaN  ...   \n",
              "\n",
              "      requires_license            license jurisdiction_names instant_bookable  \\\n",
              "78                   t                NaN                NaN                t   \n",
              "766                  t                NaN                NaN                f   \n",
              "848                  t                NaN                NaN                f   \n",
              "1270                 t  02/Z/RA/008889-18                NaN                f   \n",
              "1990                 t                NaN                NaN                f   \n",
              "...                ...                ...                ...              ...   \n",
              "21826                t                NaN                NaN                t   \n",
              "22332                t                NaN                NaN                f   \n",
              "22372                t                NaN                NaN                t   \n",
              "22395                t                NaN                NaN                t   \n",
              "22526                t                NaN                NaN                f   \n",
              "\n",
              "      is_business_travel_ready          cancellation_policy  \\\n",
              "78                           f  strict_14_with_grace_period   \n",
              "766                          f                     flexible   \n",
              "848                          f                     moderate   \n",
              "1270                         f                     moderate   \n",
              "1990                         f  strict_14_with_grace_period   \n",
              "...                        ...                          ...   \n",
              "21826                        f              super_strict_60   \n",
              "22332                        f                     flexible   \n",
              "22372                        f                     flexible   \n",
              "22395                        f                     flexible   \n",
              "22526                        f  strict_14_with_grace_period   \n",
              "\n",
              "       require_guest_profile_picture require_guest_phone_verification  \\\n",
              "78                                 f                                t   \n",
              "766                                f                                f   \n",
              "848                                f                                f   \n",
              "1270                               f                                f   \n",
              "1990                               f                                f   \n",
              "...                              ...                              ...   \n",
              "21826                              f                                f   \n",
              "22332                              f                                f   \n",
              "22372                              f                                f   \n",
              "22395                              f                                f   \n",
              "22526                              f                                f   \n",
              "\n",
              "       calculated_host_listings_count  reviews_per_month  \n",
              "78                                  2               1.24  \n",
              "766                                 4               0.74  \n",
              "848                                 1               0.55  \n",
              "1270                                1                NaN  \n",
              "1990                                1               0.35  \n",
              "...                               ...                ...  \n",
              "21826                               6                NaN  \n",
              "22332                               1                NaN  \n",
              "22372                               2                NaN  \n",
              "22395                               1                NaN  \n",
              "22526                               3                NaN  \n",
              "\n",
              "[74 rows x 96 columns]"
            ],
            "text/html": [
              "\n",
              "  <div id=\"df-861839ac-5521-4654-a196-512de999b555\">\n",
              "    <div class=\"colab-df-container\">\n",
              "      <div>\n",
              "<style scoped>\n",
              "    .dataframe tbody tr th:only-of-type {\n",
              "        vertical-align: middle;\n",
              "    }\n",
              "\n",
              "    .dataframe tbody tr th {\n",
              "        vertical-align: top;\n",
              "    }\n",
              "\n",
              "    .dataframe thead th {\n",
              "        text-align: right;\n",
              "    }\n",
              "</style>\n",
              "<table border=\"1\" class=\"dataframe\">\n",
              "  <thead>\n",
              "    <tr style=\"text-align: right;\">\n",
              "      <th></th>\n",
              "      <th>id</th>\n",
              "      <th>listing_url</th>\n",
              "      <th>scrape_id</th>\n",
              "      <th>last_scraped</th>\n",
              "      <th>name</th>\n",
              "      <th>summary</th>\n",
              "      <th>space</th>\n",
              "      <th>description</th>\n",
              "      <th>experiences_offered</th>\n",
              "      <th>neighborhood_overview</th>\n",
              "      <th>...</th>\n",
              "      <th>requires_license</th>\n",
              "      <th>license</th>\n",
              "      <th>jurisdiction_names</th>\n",
              "      <th>instant_bookable</th>\n",
              "      <th>is_business_travel_ready</th>\n",
              "      <th>cancellation_policy</th>\n",
              "      <th>require_guest_profile_picture</th>\n",
              "      <th>require_guest_phone_verification</th>\n",
              "      <th>calculated_host_listings_count</th>\n",
              "      <th>reviews_per_month</th>\n",
              "    </tr>\n",
              "  </thead>\n",
              "  <tbody>\n",
              "    <tr>\n",
              "      <th>78</th>\n",
              "      <td>102882</td>\n",
              "      <td>https://www.airbnb.com/rooms/102882</td>\n",
              "      <td>20181107122246</td>\n",
              "      <td>2018-11-07</td>\n",
              "      <td>STORAGE APARTMENT URBAN</td>\n",
              "      <td>Storage Berlin - Contemporary and innovative l...</td>\n",
              "      <td>Rent one of the rooms as single traveller or a...</td>\n",
              "      <td>Storage Berlin - Contemporary and innovative l...</td>\n",
              "      <td>none</td>\n",
              "      <td>NaN</td>\n",
              "      <td>...</td>\n",
              "      <td>t</td>\n",
              "      <td>NaN</td>\n",
              "      <td>NaN</td>\n",
              "      <td>t</td>\n",
              "      <td>f</td>\n",
              "      <td>strict_14_with_grace_period</td>\n",
              "      <td>f</td>\n",
              "      <td>t</td>\n",
              "      <td>2</td>\n",
              "      <td>1.24</td>\n",
              "    </tr>\n",
              "    <tr>\n",
              "      <th>766</th>\n",
              "      <td>810056</td>\n",
              "      <td>https://www.airbnb.com/rooms/810056</td>\n",
              "      <td>20181107122246</td>\n",
              "      <td>2018-11-07</td>\n",
              "      <td>20m2 of relaxation ***</td>\n",
              "      <td>Dear travellers - I'm renting out a 20 sq mete...</td>\n",
              "      <td>Atelier/Logement de 52 M2, au 3ème étage d'un ...</td>\n",
              "      <td>Dear travellers - I'm renting out a 20 sq mete...</td>\n",
              "      <td>none</td>\n",
              "      <td>Ici c'est tous les jours dimanche.</td>\n",
              "      <td>...</td>\n",
              "      <td>t</td>\n",
              "      <td>NaN</td>\n",
              "      <td>NaN</td>\n",
              "      <td>f</td>\n",
              "      <td>f</td>\n",
              "      <td>flexible</td>\n",
              "      <td>f</td>\n",
              "      <td>f</td>\n",
              "      <td>4</td>\n",
              "      <td>0.74</td>\n",
              "    </tr>\n",
              "    <tr>\n",
              "      <th>848</th>\n",
              "      <td>885925</td>\n",
              "      <td>https://www.airbnb.com/rooms/885925</td>\n",
              "      <td>20181107122246</td>\n",
              "      <td>2018-11-07</td>\n",
              "      <td>LOFT- 8 minutes from train station!</td>\n",
              "      <td>This amazing loft, which has already been feat...</td>\n",
              "      <td>This incredible loft of over (Phone number hid...</td>\n",
              "      <td>This incredible loft of over (Phone number hid...</td>\n",
              "      <td>none</td>\n",
              "      <td>NaN</td>\n",
              "      <td>...</td>\n",
              "      <td>t</td>\n",
              "      <td>NaN</td>\n",
              "      <td>NaN</td>\n",
              "      <td>f</td>\n",
              "      <td>f</td>\n",
              "      <td>moderate</td>\n",
              "      <td>f</td>\n",
              "      <td>f</td>\n",
              "      <td>1</td>\n",
              "      <td>0.55</td>\n",
              "    </tr>\n",
              "    <tr>\n",
              "      <th>1270</th>\n",
              "      <td>1525270</td>\n",
              "      <td>https://www.airbnb.com/rooms/1525270</td>\n",
              "      <td>20181107122246</td>\n",
              "      <td>2018-11-07</td>\n",
              "      <td>Voll ausgestattetes Dachloft mit Blick über Be...</td>\n",
              "      <td>Penthouse im 5. Stock (mit Aufzug) mit großer ...</td>\n",
              "      <td>NaN</td>\n",
              "      <td>Penthouse im 5. Stock (mit Aufzug) mit großer ...</td>\n",
              "      <td>none</td>\n",
              "      <td>Die Wohnung befindet sich in unmittelbarer Näh...</td>\n",
              "      <td>...</td>\n",
              "      <td>t</td>\n",
              "      <td>02/Z/RA/008889-18</td>\n",
              "      <td>NaN</td>\n",
              "      <td>f</td>\n",
              "      <td>f</td>\n",
              "      <td>moderate</td>\n",
              "      <td>f</td>\n",
              "      <td>f</td>\n",
              "      <td>1</td>\n",
              "      <td>NaN</td>\n",
              "    </tr>\n",
              "    <tr>\n",
              "      <th>1990</th>\n",
              "      <td>2860420</td>\n",
              "      <td>https://www.airbnb.com/rooms/2860420</td>\n",
              "      <td>20181107122246</td>\n",
              "      <td>2018-11-07</td>\n",
              "      <td>250 qm penthouse with roof terrace for photoshoot</td>\n",
              "      <td>For Photoshoots and events. Exceptional 250sqm...</td>\n",
              "      <td>NaN</td>\n",
              "      <td>For Photoshoots and events. Exceptional 250sqm...</td>\n",
              "      <td>none</td>\n",
              "      <td>NaN</td>\n",
              "      <td>...</td>\n",
              "      <td>t</td>\n",
              "      <td>NaN</td>\n",
              "      <td>NaN</td>\n",
              "      <td>f</td>\n",
              "      <td>f</td>\n",
              "      <td>strict_14_with_grace_period</td>\n",
              "      <td>f</td>\n",
              "      <td>f</td>\n",
              "      <td>1</td>\n",
              "      <td>0.35</td>\n",
              "    </tr>\n",
              "    <tr>\n",
              "      <th>...</th>\n",
              "      <td>...</td>\n",
              "      <td>...</td>\n",
              "      <td>...</td>\n",
              "      <td>...</td>\n",
              "      <td>...</td>\n",
              "      <td>...</td>\n",
              "      <td>...</td>\n",
              "      <td>...</td>\n",
              "      <td>...</td>\n",
              "      <td>...</td>\n",
              "      <td>...</td>\n",
              "      <td>...</td>\n",
              "      <td>...</td>\n",
              "      <td>...</td>\n",
              "      <td>...</td>\n",
              "      <td>...</td>\n",
              "      <td>...</td>\n",
              "      <td>...</td>\n",
              "      <td>...</td>\n",
              "      <td>...</td>\n",
              "      <td>...</td>\n",
              "    </tr>\n",
              "    <tr>\n",
              "      <th>21826</th>\n",
              "      <td>29022524</td>\n",
              "      <td>https://www.airbnb.com/rooms/29022524</td>\n",
              "      <td>20181107122246</td>\n",
              "      <td>2018-11-07</td>\n",
              "      <td>Gorki Penthouse 1</td>\n",
              "      <td>NaN</td>\n",
              "      <td>Spread across 200 square meters, this luxury p...</td>\n",
              "      <td>Spread across 200 square meters, this luxury p...</td>\n",
              "      <td>none</td>\n",
              "      <td>NaN</td>\n",
              "      <td>...</td>\n",
              "      <td>t</td>\n",
              "      <td>NaN</td>\n",
              "      <td>NaN</td>\n",
              "      <td>t</td>\n",
              "      <td>f</td>\n",
              "      <td>super_strict_60</td>\n",
              "      <td>f</td>\n",
              "      <td>f</td>\n",
              "      <td>6</td>\n",
              "      <td>NaN</td>\n",
              "    </tr>\n",
              "    <tr>\n",
              "      <th>22332</th>\n",
              "      <td>29642132</td>\n",
              "      <td>https://www.airbnb.com/rooms/29642132</td>\n",
              "      <td>20181107122246</td>\n",
              "      <td>2018-11-07</td>\n",
              "      <td>Einzigartiges Penthouse über den Dächern Berlins!</td>\n",
              "      <td>Einzigartiges Penthouse in der Mitte Berlin Mi...</td>\n",
              "      <td>Diese ideal geschnittene Dachgeschosswohnung l...</td>\n",
              "      <td>Einzigartiges Penthouse in der Mitte Berlin Mi...</td>\n",
              "      <td>none</td>\n",
              "      <td>NaN</td>\n",
              "      <td>...</td>\n",
              "      <td>t</td>\n",
              "      <td>NaN</td>\n",
              "      <td>NaN</td>\n",
              "      <td>f</td>\n",
              "      <td>f</td>\n",
              "      <td>flexible</td>\n",
              "      <td>f</td>\n",
              "      <td>f</td>\n",
              "      <td>1</td>\n",
              "      <td>NaN</td>\n",
              "    </tr>\n",
              "    <tr>\n",
              "      <th>22372</th>\n",
              "      <td>29684637</td>\n",
              "      <td>https://www.airbnb.com/rooms/29684637</td>\n",
              "      <td>20181107122246</td>\n",
              "      <td>2018-11-07</td>\n",
              "      <td>Cool Luxury meets Amazing Design!</td>\n",
              "      <td>This super Luxury loft is located directly on ...</td>\n",
              "      <td>Refurbished in 2016 and luxuriously furnished ...</td>\n",
              "      <td>This super Luxury loft is located directly on ...</td>\n",
              "      <td>none</td>\n",
              "      <td>NaN</td>\n",
              "      <td>...</td>\n",
              "      <td>t</td>\n",
              "      <td>NaN</td>\n",
              "      <td>NaN</td>\n",
              "      <td>t</td>\n",
              "      <td>f</td>\n",
              "      <td>flexible</td>\n",
              "      <td>f</td>\n",
              "      <td>f</td>\n",
              "      <td>2</td>\n",
              "      <td>NaN</td>\n",
              "    </tr>\n",
              "    <tr>\n",
              "      <th>22395</th>\n",
              "      <td>29706171</td>\n",
              "      <td>https://www.airbnb.com/rooms/29706171</td>\n",
              "      <td>20181107122246</td>\n",
              "      <td>2018-11-07</td>\n",
              "      <td>Most amazing flat in Berlin</td>\n",
              "      <td>Your home is your castle. You can pull up the ...</td>\n",
              "      <td>Kitchen, Toilet, stupid stuff on the wall. Use...</td>\n",
              "      <td>Your home is your castle. You can pull up the ...</td>\n",
              "      <td>none</td>\n",
              "      <td>Its wedding, a unique mix of people that never...</td>\n",
              "      <td>...</td>\n",
              "      <td>t</td>\n",
              "      <td>NaN</td>\n",
              "      <td>NaN</td>\n",
              "      <td>t</td>\n",
              "      <td>f</td>\n",
              "      <td>flexible</td>\n",
              "      <td>f</td>\n",
              "      <td>f</td>\n",
              "      <td>1</td>\n",
              "      <td>NaN</td>\n",
              "    </tr>\n",
              "    <tr>\n",
              "      <th>22526</th>\n",
              "      <td>29840432</td>\n",
              "      <td>https://www.airbnb.com/rooms/29840432</td>\n",
              "      <td>20181107122246</td>\n",
              "      <td>2018-11-07</td>\n",
              "      <td>!!! EDLES PENTHOUSE !!! NÄHE KUFÜRSTENDAMM</td>\n",
              "      <td>Eine edles und elegantes Penthouse mit circa 1...</td>\n",
              "      <td>NaN</td>\n",
              "      <td>Eine edles und elegantes Penthouse mit circa 1...</td>\n",
              "      <td>none</td>\n",
              "      <td>NaN</td>\n",
              "      <td>...</td>\n",
              "      <td>t</td>\n",
              "      <td>NaN</td>\n",
              "      <td>NaN</td>\n",
              "      <td>f</td>\n",
              "      <td>f</td>\n",
              "      <td>strict_14_with_grace_period</td>\n",
              "      <td>f</td>\n",
              "      <td>f</td>\n",
              "      <td>3</td>\n",
              "      <td>NaN</td>\n",
              "    </tr>\n",
              "  </tbody>\n",
              "</table>\n",
              "<p>74 rows × 96 columns</p>\n",
              "</div>\n",
              "      <button class=\"colab-df-convert\" onclick=\"convertToInteractive('df-861839ac-5521-4654-a196-512de999b555')\"\n",
              "              title=\"Convert this dataframe to an interactive table.\"\n",
              "              style=\"display:none;\">\n",
              "        \n",
              "  <svg xmlns=\"http://www.w3.org/2000/svg\" height=\"24px\"viewBox=\"0 0 24 24\"\n",
              "       width=\"24px\">\n",
              "    <path d=\"M0 0h24v24H0V0z\" fill=\"none\"/>\n",
              "    <path d=\"M18.56 5.44l.94 2.06.94-2.06 2.06-.94-2.06-.94-.94-2.06-.94 2.06-2.06.94zm-11 1L8.5 8.5l.94-2.06 2.06-.94-2.06-.94L8.5 2.5l-.94 2.06-2.06.94zm10 10l.94 2.06.94-2.06 2.06-.94-2.06-.94-.94-2.06-.94 2.06-2.06.94z\"/><path d=\"M17.41 7.96l-1.37-1.37c-.4-.4-.92-.59-1.43-.59-.52 0-1.04.2-1.43.59L10.3 9.45l-7.72 7.72c-.78.78-.78 2.05 0 2.83L4 21.41c.39.39.9.59 1.41.59.51 0 1.02-.2 1.41-.59l7.78-7.78 2.81-2.81c.8-.78.8-2.07 0-2.86zM5.41 20L4 18.59l7.72-7.72 1.47 1.35L5.41 20z\"/>\n",
              "  </svg>\n",
              "      </button>\n",
              "      \n",
              "  <style>\n",
              "    .colab-df-container {\n",
              "      display:flex;\n",
              "      flex-wrap:wrap;\n",
              "      gap: 12px;\n",
              "    }\n",
              "\n",
              "    .colab-df-convert {\n",
              "      background-color: #E8F0FE;\n",
              "      border: none;\n",
              "      border-radius: 50%;\n",
              "      cursor: pointer;\n",
              "      display: none;\n",
              "      fill: #1967D2;\n",
              "      height: 32px;\n",
              "      padding: 0 0 0 0;\n",
              "      width: 32px;\n",
              "    }\n",
              "\n",
              "    .colab-df-convert:hover {\n",
              "      background-color: #E2EBFA;\n",
              "      box-shadow: 0px 1px 2px rgba(60, 64, 67, 0.3), 0px 1px 3px 1px rgba(60, 64, 67, 0.15);\n",
              "      fill: #174EA6;\n",
              "    }\n",
              "\n",
              "    [theme=dark] .colab-df-convert {\n",
              "      background-color: #3B4455;\n",
              "      fill: #D2E3FC;\n",
              "    }\n",
              "\n",
              "    [theme=dark] .colab-df-convert:hover {\n",
              "      background-color: #434B5C;\n",
              "      box-shadow: 0px 1px 3px 1px rgba(0, 0, 0, 0.15);\n",
              "      filter: drop-shadow(0px 1px 2px rgba(0, 0, 0, 0.3));\n",
              "      fill: #FFFFFF;\n",
              "    }\n",
              "  </style>\n",
              "\n",
              "      <script>\n",
              "        const buttonEl =\n",
              "          document.querySelector('#df-861839ac-5521-4654-a196-512de999b555 button.colab-df-convert');\n",
              "        buttonEl.style.display =\n",
              "          google.colab.kernel.accessAllowed ? 'block' : 'none';\n",
              "\n",
              "        async function convertToInteractive(key) {\n",
              "          const element = document.querySelector('#df-861839ac-5521-4654-a196-512de999b555');\n",
              "          const dataTable =\n",
              "            await google.colab.kernel.invokeFunction('convertToInteractive',\n",
              "                                                     [key], {});\n",
              "          if (!dataTable) return;\n",
              "\n",
              "          const docLinkHtml = 'Like what you see? Visit the ' +\n",
              "            '<a target=\"_blank\" href=https://colab.research.google.com/notebooks/data_table.ipynb>data table notebook</a>'\n",
              "            + ' to learn more about interactive tables.';\n",
              "          element.innerHTML = '';\n",
              "          dataTable['output_type'] = 'display_data';\n",
              "          await google.colab.output.renderOutput(dataTable, element);\n",
              "          const docLink = document.createElement('div');\n",
              "          docLink.innerHTML = docLinkHtml;\n",
              "          element.appendChild(docLink);\n",
              "        }\n",
              "      </script>\n",
              "    </div>\n",
              "  </div>\n",
              "  "
            ]
          },
          "metadata": {},
          "execution_count": 10
        }
      ]
    },
    {
      "cell_type": "code",
      "source": [
        "fig, ax = plt.subplots(figsize=(10,5)) \n",
        "ax = sns.distplot(df['price'], color='#FF585D')\n",
        "ax.set_title('Price Distribution Per Night', fontsize=20);\n",
        "ax.set_xlabel('Price', fontsize=15);\n",
        "plt.savefig('price', bbox_inches ='tight', dpi = 400)"
      ],
      "metadata": {
        "colab": {
          "base_uri": "https://localhost:8080/",
          "height": 0
        },
        "id": "SKdrwmnHspnC",
        "outputId": "a4b5e4a9-3114-4953-b296-0bf386a0a42f"
      },
      "execution_count": 13,
      "outputs": [
        {
          "output_type": "stream",
          "name": "stderr",
          "text": [
            "/usr/local/lib/python3.8/dist-packages/seaborn/distributions.py:2619: FutureWarning: `distplot` is a deprecated function and will be removed in a future version. Please adapt your code to use either `displot` (a figure-level function with similar flexibility) or `histplot` (an axes-level function for histograms).\n",
            "  warnings.warn(msg, FutureWarning)\n"
          ]
        },
        {
          "output_type": "display_data",
          "data": {
            "text/plain": [
              "<Figure size 720x360 with 1 Axes>"
            ],
            "image/png": "[encoded data removed]"
          },
          "metadata": {
            "needs_background": "light"
          }
        }
      ]
    },
    {
      "cell_type": "code",
      "source": [
        "df[['guests_included', 'extra_people', 'space', 'accommodates']]"
      ],
      "metadata": {
        "colab": {
          "base_uri": "https://localhost:8080/",
          "height": 0
        },
        "id": "enT75pk-t5KK",
        "outputId": "49794416-66d8-4fd5-ece5-2738a79c5ef4"
      },
      "execution_count": 17,
      "outputs": [
        {
          "output_type": "execute_result",
          "data": {
            "text/plain": [
              "       guests_included extra_people  \\\n",
              "0                    1       $28.00   \n",
              "1                    1        $0.00   \n",
              "2                    2       $20.00   \n",
              "3                    1       $18.00   \n",
              "4                    1       $24.00   \n",
              "...                ...          ...   \n",
              "22547                1        $0.00   \n",
              "22548                1       $10.00   \n",
              "22549                1        $0.00   \n",
              "22550                1        $0.00   \n",
              "22551                1        $0.00   \n",
              "\n",
              "                                                   space  accommodates  \n",
              "0      A+++ location! This „Einliegerwohnung“ is an e...             3  \n",
              "1      In the summertime we are spending most of our ...             2  \n",
              "2      1st floor (68m2) apartment on Kollwitzplatz/ P...             4  \n",
              "3      Your room is really big and has 26 sqm, is ver...             2  \n",
              "4      The BrightRoom is an approx. 20 sqm (215ft²), ...             2  \n",
              "...                                                  ...           ...  \n",
              "22547                                                NaN             2  \n",
              "22548  Die Übernachtungsmöglichkeit ist offen im Wohn...             6  \n",
              "22549                                                NaN             2  \n",
              "22550  Nearby you will find the Brandenburg Gate, Rei...             2  \n",
              "22551                                                NaN             2  \n",
              "\n",
              "[22466 rows x 4 columns]"
            ],
            "text/html": [
              "\n",
              "  <div id=\"df-1846dcc7-fcbc-4e6f-ac0a-a5af8efd4123\">\n",
              "    <div class=\"colab-df-container\">\n",
              "      <div>\n",
              "<style scoped>\n",
              "    .dataframe tbody tr th:only-of-type {\n",
              "        vertical-align: middle;\n",
              "    }\n",
              "\n",
              "    .dataframe tbody tr th {\n",
              "        vertical-align: top;\n",
              "    }\n",
              "\n",
              "    .dataframe thead th {\n",
              "        text-align: right;\n",
              "    }\n",
              "</style>\n",
              "<table border=\"1\" class=\"dataframe\">\n",
              "  <thead>\n",
              "    <tr style=\"text-align: right;\">\n",
              "      <th></th>\n",
              "      <th>guests_included</th>\n",
              "      <th>extra_people</th>\n",
              "      <th>space</th>\n",
              "      <th>accommodates</th>\n",
              "    </tr>\n",
              "  </thead>\n",
              "  <tbody>\n",
              "    <tr>\n",
              "      <th>0</th>\n",
              "      <td>1</td>\n",
              "      <td>$28.00</td>\n",
              "      <td>A+++ location! This „Einliegerwohnung“ is an e...</td>\n",
              "      <td>3</td>\n",
              "    </tr>\n",
              "    <tr>\n",
              "      <th>1</th>\n",
              "      <td>1</td>\n",
              "      <td>$0.00</td>\n",
              "      <td>In the summertime we are spending most of our ...</td>\n",
              "      <td>2</td>\n",
              "    </tr>\n",
              "    <tr>\n",
              "      <th>2</th>\n",
              "      <td>2</td>\n",
              "      <td>$20.00</td>\n",
              "      <td>1st floor (68m2) apartment on Kollwitzplatz/ P...</td>\n",
              "      <td>4</td>\n",
              "    </tr>\n",
              "    <tr>\n",
              "      <th>3</th>\n",
              "      <td>1</td>\n",
              "      <td>$18.00</td>\n",
              "      <td>Your room is really big and has 26 sqm, is ver...</td>\n",
              "      <td>2</td>\n",
              "    </tr>\n",
              "    <tr>\n",
              "      <th>4</th>\n",
              "      <td>1</td>\n",
              "      <td>$24.00</td>\n",
              "      <td>The BrightRoom is an approx. 20 sqm (215ft²), ...</td>\n",
              "      <td>2</td>\n",
              "    </tr>\n",
              "    <tr>\n",
              "      <th>...</th>\n",
              "      <td>...</td>\n",
              "      <td>...</td>\n",
              "      <td>...</td>\n",
              "      <td>...</td>\n",
              "    </tr>\n",
              "    <tr>\n",
              "      <th>22547</th>\n",
              "      <td>1</td>\n",
              "      <td>$0.00</td>\n",
              "      <td>NaN</td>\n",
              "      <td>2</td>\n",
              "    </tr>\n",
              "    <tr>\n",
              "      <th>22548</th>\n",
              "      <td>1</td>\n",
              "      <td>$10.00</td>\n",
              "      <td>Die Übernachtungsmöglichkeit ist offen im Wohn...</td>\n",
              "      <td>6</td>\n",
              "    </tr>\n",
              "    <tr>\n",
              "      <th>22549</th>\n",
              "      <td>1</td>\n",
              "      <td>$0.00</td>\n",
              "      <td>NaN</td>\n",
              "      <td>2</td>\n",
              "    </tr>\n",
              "    <tr>\n",
              "      <th>22550</th>\n",
              "      <td>1</td>\n",
              "      <td>$0.00</td>\n",
              "      <td>Nearby you will find the Brandenburg Gate, Rei...</td>\n",
              "      <td>2</td>\n",
              "    </tr>\n",
              "    <tr>\n",
              "      <th>22551</th>\n",
              "      <td>1</td>\n",
              "      <td>$0.00</td>\n",
              "      <td>NaN</td>\n",
              "      <td>2</td>\n",
              "    </tr>\n",
              "  </tbody>\n",
              "</table>\n",
              "<p>22466 rows × 4 columns</p>\n",
              "</div>\n",
              "      <button class=\"colab-df-convert\" onclick=\"convertToInteractive('df-1846dcc7-fcbc-4e6f-ac0a-a5af8efd4123')\"\n",
              "              title=\"Convert this dataframe to an interactive table.\"\n",
              "              style=\"display:none;\">\n",
              "        \n",
              "  <svg xmlns=\"http://www.w3.org/2000/svg\" height=\"24px\"viewBox=\"0 0 24 24\"\n",
              "       width=\"24px\">\n",
              "    <path d=\"M0 0h24v24H0V0z\" fill=\"none\"/>\n",
              "    <path d=\"M18.56 5.44l.94 2.06.94-2.06 2.06-.94-2.06-.94-.94-2.06-.94 2.06-2.06.94zm-11 1L8.5 8.5l.94-2.06 2.06-.94-2.06-.94L8.5 2.5l-.94 2.06-2.06.94zm10 10l.94 2.06.94-2.06 2.06-.94-2.06-.94-.94-2.06-.94 2.06-2.06.94z\"/><path d=\"M17.41 7.96l-1.37-1.37c-.4-.4-.92-.59-1.43-.59-.52 0-1.04.2-1.43.59L10.3 9.45l-7.72 7.72c-.78.78-.78 2.05 0 2.83L4 21.41c.39.39.9.59 1.41.59.51 0 1.02-.2 1.41-.59l7.78-7.78 2.81-2.81c.8-.78.8-2.07 0-2.86zM5.41 20L4 18.59l7.72-7.72 1.47 1.35L5.41 20z\"/>\n",
              "  </svg>\n",
              "      </button>\n",
              "      \n",
              "  <style>\n",
              "    .colab-df-container {\n",
              "      display:flex;\n",
              "      flex-wrap:wrap;\n",
              "      gap: 12px;\n",
              "    }\n",
              "\n",
              "    .colab-df-convert {\n",
              "      background-color: #E8F0FE;\n",
              "      border: none;\n",
              "      border-radius: 50%;\n",
              "      cursor: pointer;\n",
              "      display: none;\n",
              "      fill: #1967D2;\n",
              "      height: 32px;\n",
              "      padding: 0 0 0 0;\n",
              "      width: 32px;\n",
              "    }\n",
              "\n",
              "    .colab-df-convert:hover {\n",
              "      background-color: #E2EBFA;\n",
              "      box-shadow: 0px 1px 2px rgba(60, 64, 67, 0.3), 0px 1px 3px 1px rgba(60, 64, 67, 0.15);\n",
              "      fill: #174EA6;\n",
              "    }\n",
              "\n",
              "    [theme=dark] .colab-df-convert {\n",
              "      background-color: #3B4455;\n",
              "      fill: #D2E3FC;\n",
              "    }\n",
              "\n",
              "    [theme=dark] .colab-df-convert:hover {\n",
              "      background-color: #434B5C;\n",
              "      box-shadow: 0px 1px 3px 1px rgba(0, 0, 0, 0.15);\n",
              "      filter: drop-shadow(0px 1px 2px rgba(0, 0, 0, 0.3));\n",
              "      fill: #FFFFFF;\n",
              "    }\n",
              "  </style>\n",
              "\n",
              "      <script>\n",
              "        const buttonEl =\n",
              "          document.querySelector('#df-1846dcc7-fcbc-4e6f-ac0a-a5af8efd4123 button.colab-df-convert');\n",
              "        buttonEl.style.display =\n",
              "          google.colab.kernel.accessAllowed ? 'block' : 'none';\n",
              "\n",
              "        async function convertToInteractive(key) {\n",
              "          const element = document.querySelector('#df-1846dcc7-fcbc-4e6f-ac0a-a5af8efd4123');\n",
              "          const dataTable =\n",
              "            await google.colab.kernel.invokeFunction('convertToInteractive',\n",
              "                                                     [key], {});\n",
              "          if (!dataTable) return;\n",
              "\n",
              "          const docLinkHtml = 'Like what you see? Visit the ' +\n",
              "            '<a target=\"_blank\" href=https://colab.research.google.com/notebooks/data_table.ipynb>data table notebook</a>'\n",
              "            + ' to learn more about interactive tables.';\n",
              "          element.innerHTML = '';\n",
              "          dataTable['output_type'] = 'display_data';\n",
              "          await google.colab.output.renderOutput(dataTable, element);\n",
              "          const docLink = document.createElement('div');\n",
              "          docLink.innerHTML = docLinkHtml;\n",
              "          element.appendChild(docLink);\n",
              "        }\n",
              "      </script>\n",
              "    </div>\n",
              "  </div>\n",
              "  "
            ]
          },
          "metadata": {},
          "execution_count": 17
        }
      ]
    }
  ]
}